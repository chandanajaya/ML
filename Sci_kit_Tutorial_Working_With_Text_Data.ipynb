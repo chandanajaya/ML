{
  "nbformat": 4,
  "nbformat_minor": 0,
  "metadata": {
    "colab": {
      "provenance": []
    },
    "kernelspec": {
      "name": "python3",
      "display_name": "Python 3"
    },
    "language_info": {
      "name": "python"
    }
  },
  "cells": [
    {
      "cell_type": "code",
      "source": [
        "categories = ['alt.atheism','soc.religion.christian','comp.graphics', 'sci.med']"
      ],
      "metadata": {
        "id": "zhsSDFxJhGb2"
      },
      "execution_count": 5,
      "outputs": []
    },
    {
      "cell_type": "code",
      "source": [
        "from sklearn.datasets import fetch_20newsgroups\n",
        "twenty_train =fetch_20newsgroups(subset='train',categories=categories, shuffle= True, random_state=25)"
      ],
      "metadata": {
        "id": "y4B1u8xAhlK8"
      },
      "execution_count": 7,
      "outputs": []
    },
    {
      "cell_type": "code",
      "source": [
        "twenty_train.target_names"
      ],
      "metadata": {
        "colab": {
          "base_uri": "https://localhost:8080/"
        },
        "id": "HlBJB9cciBK9",
        "outputId": "0e211dd0-3f5f-49d2-cd3b-1932734d008a"
      },
      "execution_count": 9,
      "outputs": [
        {
          "output_type": "execute_result",
          "data": {
            "text/plain": [
              "['alt.atheism', 'comp.graphics', 'sci.med', 'soc.religion.christian']"
            ]
          },
          "metadata": {},
          "execution_count": 9
        }
      ]
    },
    {
      "cell_type": "code",
      "source": [
        "len(twenty_train.data)"
      ],
      "metadata": {
        "colab": {
          "base_uri": "https://localhost:8080/"
        },
        "id": "kjEem2cXiMvu",
        "outputId": "8efc00e9-db8f-43f0-f6b4-a6c8caf6cedd"
      },
      "execution_count": 11,
      "outputs": [
        {
          "output_type": "execute_result",
          "data": {
            "text/plain": [
              "2257"
            ]
          },
          "metadata": {},
          "execution_count": 11
        }
      ]
    },
    {
      "cell_type": "code",
      "source": [
        "len(twenty_train.filenames)"
      ],
      "metadata": {
        "colab": {
          "base_uri": "https://localhost:8080/"
        },
        "id": "j1HakODviR6m",
        "outputId": "ccdc98f6-d4b2-4d07-f409-2fac21d40372"
      },
      "execution_count": 12,
      "outputs": [
        {
          "output_type": "execute_result",
          "data": {
            "text/plain": [
              "2257"
            ]
          },
          "metadata": {},
          "execution_count": 12
        }
      ]
    },
    {
      "cell_type": "code",
      "source": [
        "print(\"\\n\".join(twenty_train.data[0].split(\"\\n\")[:3]))"
      ],
      "metadata": {
        "colab": {
          "base_uri": "https://localhost:8080/"
        },
        "id": "gfClkCkBiX_M",
        "outputId": "4e2d85f7-416b-41e6-aca7-6405544dc827"
      },
      "execution_count": 13,
      "outputs": [
        {
          "output_type": "stream",
          "name": "stdout",
          "text": [
            "From: Desiree_Bradley@mindlink.bc.ca (Desiree Bradley)\n",
            "Subject: Being right about messiahs\n",
            "Organization: MIND LINK! - British Columbia, Canada\n"
          ]
        }
      ]
    },
    {
      "cell_type": "code",
      "source": [
        "print(twenty_train.target_names[twenty_train.target[0]])"
      ],
      "metadata": {
        "colab": {
          "base_uri": "https://localhost:8080/"
        },
        "id": "w96591kPisx2",
        "outputId": "a8a004b9-5079-4b1c-9f5f-52e46475ad4b"
      },
      "execution_count": 15,
      "outputs": [
        {
          "output_type": "stream",
          "name": "stdout",
          "text": [
            "soc.religion.christian\n"
          ]
        }
      ]
    },
    {
      "cell_type": "code",
      "source": [
        "twenty_train.target[:10]"
      ],
      "metadata": {
        "colab": {
          "base_uri": "https://localhost:8080/"
        },
        "id": "xesYKh8Mjq1y",
        "outputId": "b42bc29a-208b-48c5-dce0-4b31aff666fa"
      },
      "execution_count": 17,
      "outputs": [
        {
          "output_type": "execute_result",
          "data": {
            "text/plain": [
              "array([3, 2, 3, 0, 1, 1, 1, 1, 1, 0])"
            ]
          },
          "metadata": {},
          "execution_count": 17
        }
      ]
    },
    {
      "cell_type": "code",
      "source": [
        "for t in twenty_train.target[:10]:\n",
        "  print(twenty_train.target_names[t])"
      ],
      "metadata": {
        "colab": {
          "base_uri": "https://localhost:8080/"
        },
        "id": "JwO99-DJjxyS",
        "outputId": "dcc73bbe-98dd-4436-a7b9-85afb817a30a"
      },
      "execution_count": 18,
      "outputs": [
        {
          "output_type": "stream",
          "name": "stdout",
          "text": [
            "soc.religion.christian\n",
            "sci.med\n",
            "soc.religion.christian\n",
            "alt.atheism\n",
            "comp.graphics\n",
            "comp.graphics\n",
            "comp.graphics\n",
            "comp.graphics\n",
            "comp.graphics\n",
            "alt.atheism\n"
          ]
        }
      ]
    },
    {
      "cell_type": "markdown",
      "source": [
        "Extracting feature from text files"
      ],
      "metadata": {
        "id": "1U0YfN1vkTlp"
      }
    },
    {
      "cell_type": "code",
      "source": [
        "from sklearn.feature_extraction.text import CountVectorizer\n",
        "count_vect = CountVectorizer()\n",
        "x_train_count = count_vect.fit_transform(twenty_train.data)\n",
        "x_train_count.shape"
      ],
      "metadata": {
        "colab": {
          "base_uri": "https://localhost:8080/"
        },
        "id": "R0EJw3sgkW5A",
        "outputId": "45be183a-c8bb-4c8e-8103-0b92eb536c03"
      },
      "execution_count": 19,
      "outputs": [
        {
          "output_type": "execute_result",
          "data": {
            "text/plain": [
              "(2257, 35788)"
            ]
          },
          "metadata": {},
          "execution_count": 19
        }
      ]
    },
    {
      "cell_type": "code",
      "source": [
        "count_vect.vocabulary_.get(u'algorithm')"
      ],
      "metadata": {
        "colab": {
          "base_uri": "https://localhost:8080/"
        },
        "id": "JQELkkVmk46f",
        "outputId": "0cad9ce8-e276-43b6-da25-b220345bce81"
      },
      "execution_count": 21,
      "outputs": [
        {
          "output_type": "execute_result",
          "data": {
            "text/plain": [
              "4690"
            ]
          },
          "metadata": {},
          "execution_count": 21
        }
      ]
    },
    {
      "cell_type": "markdown",
      "source": [
        "**From occurences to frequencies**\n",
        "tf and tf-idf calculation"
      ],
      "metadata": {
        "id": "VfzyA7QQlOBb"
      }
    },
    {
      "cell_type": "code",
      "source": [
        "from sklearn.feature_extraction.text import TfidfTransformer\n",
        "tf_transformer= TfidfTransformer(use_idf=False).fit(x_train_count)\n",
        "x_train_tf = tf_transformer.transform(x_train_count)\n",
        "x_train_tf.shape"
      ],
      "metadata": {
        "colab": {
          "base_uri": "https://localhost:8080/"
        },
        "id": "_AoKWv_zlKVc",
        "outputId": "2725e820-78a5-4c97-9775-33dc61af9b3f"
      },
      "execution_count": 22,
      "outputs": [
        {
          "output_type": "execute_result",
          "data": {
            "text/plain": [
              "(2257, 35788)"
            ]
          },
          "metadata": {},
          "execution_count": 22
        }
      ]
    },
    {
      "cell_type": "code",
      "source": [
        "tfidf_transformer = TfidfTransformer()\n",
        "x_train_tfidf = tfidf_transformer.fit_transform(x_train_count)\n",
        "x_train_tfidf.shape"
      ],
      "metadata": {
        "colab": {
          "base_uri": "https://localhost:8080/"
        },
        "id": "gGXtfLfLm-09",
        "outputId": "7c917075-85b0-43a3-b2c8-020c6cb0a4de"
      },
      "execution_count": 25,
      "outputs": [
        {
          "output_type": "execute_result",
          "data": {
            "text/plain": [
              "(2257, 35788)"
            ]
          },
          "metadata": {},
          "execution_count": 25
        }
      ]
    },
    {
      "cell_type": "markdown",
      "source": [
        "Training Classifier"
      ],
      "metadata": {
        "id": "dP2V7Ee9mVZP"
      }
    },
    {
      "cell_type": "code",
      "source": [
        "from sklearn.naive_bayes import MultinomialNB\n",
        "clf = MultinomialNB().fit(x_train_tfidf, twenty_train.target)"
      ],
      "metadata": {
        "id": "DSXq2CmZmSFp"
      },
      "execution_count": 26,
      "outputs": []
    },
    {
      "cell_type": "code",
      "source": [
        "from sre_constants import CATEGORY\n",
        "docs_new= ['God is love', 'OpenGL on the GPU is fast']\n",
        "x_new_counts = count_vect.transform(docs_new)\n",
        "x_new_tfidf = tfidf_transformer.transform(x_new_counts)\n",
        "\n",
        "\n",
        "predicted = clf.predict(x_new_tfidf)\n",
        "\n",
        "\n",
        "for doc, category in zip(docs_new, predicted):\n",
        "  print('%r => %s'% (doc, twenty_train.target_names[category]))\n",
        "   "
      ],
      "metadata": {
        "colab": {
          "base_uri": "https://localhost:8080/"
        },
        "id": "0hKXU2TUn6A9",
        "outputId": "c8493444-eb40-4f86-ac91-121c5e457b04"
      },
      "execution_count": 27,
      "outputs": [
        {
          "output_type": "stream",
          "name": "stdout",
          "text": [
            "'God is love' => soc.religion.christian\n",
            "'OpenGL on the GPU is fast' => comp.graphics\n"
          ]
        }
      ]
    },
    {
      "cell_type": "markdown",
      "source": [
        "Building Pipeline"
      ],
      "metadata": {
        "id": "4f8066fRpwqR"
      }
    },
    {
      "cell_type": "code",
      "source": [
        "from sklearn.pipeline import Pipeline\n",
        "text_clf = Pipeline([\n",
        "    ('vect',CountVectorizer()),\n",
        "    ('tfidf',TfidfTransformer()),\n",
        "    ('clf',MultinomialNB())\n",
        "])\n"
      ],
      "metadata": {
        "id": "xpC-yfjlpkMd"
      },
      "execution_count": 28,
      "outputs": []
    },
    {
      "cell_type": "code",
      "source": [
        "text_clf.fit(twenty_train.data, twenty_train.target)\n"
      ],
      "metadata": {
        "colab": {
          "base_uri": "https://localhost:8080/"
        },
        "id": "wLzMzey7qdK0",
        "outputId": "5a46a50f-738b-413a-e4dc-ab0a919efb50"
      },
      "execution_count": 30,
      "outputs": [
        {
          "output_type": "execute_result",
          "data": {
            "text/plain": [
              "Pipeline(steps=[('vect', CountVectorizer()), ('tfidf', TfidfTransformer()),\n",
              "                ('clf', MultinomialNB())])"
            ]
          },
          "metadata": {},
          "execution_count": 30
        }
      ]
    },
    {
      "cell_type": "markdown",
      "source": [
        "Evaluvation of performance on test set"
      ],
      "metadata": {
        "id": "lVS87gWFrNhX"
      }
    },
    {
      "cell_type": "code",
      "source": [
        "import numpy as np\n",
        "twenty_test = fetch_20newsgroups(subset = 'test',\n",
        "                                 categories=categories, shuffle= True, random_state=25)\n",
        "docs_test = twenty_test.data\n",
        "predicted = text_clf.predict(docs_test)\n",
        "np.mean( predicted == twenty_test.target)"
      ],
      "metadata": {
        "colab": {
          "base_uri": "https://localhost:8080/"
        },
        "id": "ido3AqFPrB8A",
        "outputId": "86bb23cc-4db2-4fac-914e-4ccdebce2237"
      },
      "execution_count": 32,
      "outputs": [
        {
          "output_type": "execute_result",
          "data": {
            "text/plain": [
              "0.8348868175765646"
            ]
          },
          "metadata": {},
          "execution_count": 32
        }
      ]
    },
    {
      "cell_type": "markdown",
      "source": [
        "using SVM\n"
      ],
      "metadata": {
        "id": "4sv_GO47sSjy"
      }
    },
    {
      "cell_type": "code",
      "source": [
        "from sklearn import pipeline\n",
        "from sklearn.linear_model import SGDClassifier\n",
        "test_clf = Pipeline([\n",
        "    ('vect',CountVectorizer()),\n",
        "    ('tfidf',TfidfTransformer()),\n",
        "    ('clf', SGDClassifier(loss = 'hinge', penalty= '12',\n",
        "                          alpha =1e-3, random_state= 25,\n",
        "                          max_iter = 5, tol = None)),\n",
        "])\n",
        "\n",
        "text_clf.fit(twenty_train.data,twenty_train.target)\n",
        "predicted = text_clf.predict(docs_test)\n",
        "np.mean(predicted == twenty_test.target)"
      ],
      "metadata": {
        "colab": {
          "base_uri": "https://localhost:8080/"
        },
        "id": "UP_uNyxpsVmo",
        "outputId": "56656278-7223-428f-a81a-4c541e677f0f"
      },
      "execution_count": 35,
      "outputs": [
        {
          "output_type": "execute_result",
          "data": {
            "text/plain": [
              "0.8348868175765646"
            ]
          },
          "metadata": {},
          "execution_count": 35
        }
      ]
    },
    {
      "cell_type": "code",
      "source": [
        "from sklearn import metrics\n",
        "print(metrics.classification_report(twenty_test.target, predicted,\n",
        "                                    target_names=twenty_test.target_names))"
      ],
      "metadata": {
        "colab": {
          "base_uri": "https://localhost:8080/"
        },
        "id": "-qCfbCXluS63",
        "outputId": "eed92734-6908-45e3-b57c-a91d3bc9fa88"
      },
      "execution_count": 38,
      "outputs": [
        {
          "output_type": "stream",
          "name": "stdout",
          "text": [
            "                        precision    recall  f1-score   support\n",
            "\n",
            "           alt.atheism       0.97      0.60      0.74       319\n",
            "         comp.graphics       0.96      0.89      0.92       389\n",
            "               sci.med       0.97      0.81      0.88       396\n",
            "soc.religion.christian       0.65      0.99      0.78       398\n",
            "\n",
            "              accuracy                           0.83      1502\n",
            "             macro avg       0.89      0.82      0.83      1502\n",
            "          weighted avg       0.88      0.83      0.84      1502\n",
            "\n"
          ]
        }
      ]
    },
    {
      "cell_type": "code",
      "source": [
        "metrics.confusion_matrix(twenty_test.target, predicted)"
      ],
      "metadata": {
        "colab": {
          "base_uri": "https://localhost:8080/"
        },
        "id": "T-aPP_5Uuvhe",
        "outputId": "09f804d0-2f9b-44e2-a39a-0b136ccb9dc0"
      },
      "execution_count": 39,
      "outputs": [
        {
          "output_type": "execute_result",
          "data": {
            "text/plain": [
              "array([[192,   2,   6, 119],\n",
              "       [  2, 347,   4,  36],\n",
              "       [  2,  11, 322,  61],\n",
              "       [  2,   2,   1, 393]])"
            ]
          },
          "metadata": {},
          "execution_count": 39
        }
      ]
    },
    {
      "cell_type": "code",
      "source": [],
      "metadata": {
        "id": "VZlKEi1Dv7d-"
      },
      "execution_count": null,
      "outputs": []
    },
    {
      "cell_type": "code",
      "source": [],
      "metadata": {
        "id": "1OsMjFWDxOY6"
      },
      "execution_count": null,
      "outputs": []
    }
  ]
}